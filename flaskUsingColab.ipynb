{
  "nbformat": 4,
  "nbformat_minor": 0,
  "metadata": {
    "colab": {
      "name": "firstFlaskUsingColab.ipynb",
      "provenance": []
    },
    "kernelspec": {
      "name": "python3",
      "display_name": "Python 3"
    }
  },
  "cells": [
    {
      "cell_type": "code",
      "metadata": {
        "id": "qYQR6eIRWiAy",
        "colab_type": "code",
        "colab": {}
      },
      "source": [
        "# "
      ],
      "execution_count": 0,
      "outputs": []
    },
    {
      "cell_type": "code",
      "metadata": {
        "id": "EcSxvLNiP9Gx",
        "colab_type": "code",
        "colab": {
          "base_uri": "https://localhost:8080/",
          "height": 129
        },
        "outputId": "6eb20347-70e4-43dc-9723-713c615a3f6f"
      },
      "source": [
        "!pip3 install virtualenv"
      ],
      "execution_count": 1,
      "outputs": [
        {
          "output_type": "stream",
          "text": [
            "Collecting virtualenv\n",
            "\u001b[?25l  Downloading https://files.pythonhosted.org/packages/05/f1/2e07e8ca50e047b9cc9ad56cf4291f4e041fa73207d000a095fe478abf84/virtualenv-16.7.9-py2.py3-none-any.whl (3.4MB)\n",
            "\r\u001b[K     |                                | 10kB 17.7MB/s eta 0:00:01\r\u001b[K     |▏                               | 20kB 2.2MB/s eta 0:00:02\r\u001b[K     |▎                               | 30kB 3.2MB/s eta 0:00:02\r\u001b[K     |▍                               | 40kB 2.0MB/s eta 0:00:02\r\u001b[K     |▌                               | 51kB 2.4MB/s eta 0:00:02\r\u001b[K     |▋                               | 61kB 2.9MB/s eta 0:00:02\r\u001b[K     |▊                               | 71kB 3.4MB/s eta 0:00:01\r\u001b[K     |▉                               | 81kB 3.8MB/s eta 0:00:01\r\u001b[K     |▉                               | 92kB 4.3MB/s eta 0:00:01\r\u001b[K     |█                               | 102kB 3.3MB/s eta 0:00:01\r\u001b[K     |█                               | 112kB 3.3MB/s eta 0:00:01\r\u001b[K     |█▏                              | 122kB 3.3MB/s eta 0:00:01\r\u001b[K     |█▎                              | 133kB 3.3MB/s eta 0:00:01\r\u001b[K     |█▍                              | 143kB 3.3MB/s eta 0:00:01\r\u001b[K     |█▌                              | 153kB 3.3MB/s eta 0:00:01\r\u001b[K     |█▋                              | 163kB 3.3MB/s eta 0:00:01\r\u001b[K     |█▋                              | 174kB 3.3MB/s eta 0:00:01\r\u001b[K     |█▊                              | 184kB 3.3MB/s eta 0:00:01\r\u001b[K     |█▉                              | 194kB 3.3MB/s eta 0:00:01\r\u001b[K     |██                              | 204kB 3.3MB/s eta 0:00:01\r\u001b[K     |██                              | 215kB 3.3MB/s eta 0:00:01\r\u001b[K     |██▏                             | 225kB 3.3MB/s eta 0:00:01\r\u001b[K     |██▎                             | 235kB 3.3MB/s eta 0:00:01\r\u001b[K     |██▍                             | 245kB 3.3MB/s eta 0:00:01\r\u001b[K     |██▍                             | 256kB 3.3MB/s eta 0:00:01\r\u001b[K     |██▌                             | 266kB 3.3MB/s eta 0:00:01\r\u001b[K     |██▋                             | 276kB 3.3MB/s eta 0:00:01\r\u001b[K     |██▊                             | 286kB 3.3MB/s eta 0:00:01\r\u001b[K     |██▉                             | 296kB 3.3MB/s eta 0:00:01\r\u001b[K     |███                             | 307kB 3.3MB/s eta 0:00:01\r\u001b[K     |███                             | 317kB 3.3MB/s eta 0:00:01\r\u001b[K     |███▏                            | 327kB 3.3MB/s eta 0:00:01\r\u001b[K     |███▎                            | 337kB 3.3MB/s eta 0:00:01\r\u001b[K     |███▎                            | 348kB 3.3MB/s eta 0:00:01\r\u001b[K     |███▍                            | 358kB 3.3MB/s eta 0:00:01\r\u001b[K     |███▌                            | 368kB 3.3MB/s eta 0:00:01\r\u001b[K     |███▋                            | 378kB 3.3MB/s eta 0:00:01\r\u001b[K     |███▊                            | 389kB 3.3MB/s eta 0:00:01\r\u001b[K     |███▉                            | 399kB 3.3MB/s eta 0:00:01\r\u001b[K     |████                            | 409kB 3.3MB/s eta 0:00:01\r\u001b[K     |████                            | 419kB 3.3MB/s eta 0:00:01\r\u001b[K     |████                            | 430kB 3.3MB/s eta 0:00:01\r\u001b[K     |████▏                           | 440kB 3.3MB/s eta 0:00:01\r\u001b[K     |████▎                           | 450kB 3.3MB/s eta 0:00:01\r\u001b[K     |████▍                           | 460kB 3.3MB/s eta 0:00:01\r\u001b[K     |████▌                           | 471kB 3.3MB/s eta 0:00:01\r\u001b[K     |████▋                           | 481kB 3.3MB/s eta 0:00:01\r\u001b[K     |████▊                           | 491kB 3.3MB/s eta 0:00:01\r\u001b[K     |████▉                           | 501kB 3.3MB/s eta 0:00:01\r\u001b[K     |████▉                           | 512kB 3.3MB/s eta 0:00:01\r\u001b[K     |█████                           | 522kB 3.3MB/s eta 0:00:01\r\u001b[K     |█████                           | 532kB 3.3MB/s eta 0:00:01\r\u001b[K     |█████▏                          | 542kB 3.3MB/s eta 0:00:01\r\u001b[K     |█████▎                          | 552kB 3.3MB/s eta 0:00:01\r\u001b[K     |█████▍                          | 563kB 3.3MB/s eta 0:00:01\r\u001b[K     |█████▌                          | 573kB 3.3MB/s eta 0:00:01\r\u001b[K     |█████▋                          | 583kB 3.3MB/s eta 0:00:01\r\u001b[K     |█████▋                          | 593kB 3.3MB/s eta 0:00:01\r\u001b[K     |█████▊                          | 604kB 3.3MB/s eta 0:00:01\r\u001b[K     |█████▉                          | 614kB 3.3MB/s eta 0:00:01\r\u001b[K     |██████                          | 624kB 3.3MB/s eta 0:00:01\r\u001b[K     |██████                          | 634kB 3.3MB/s eta 0:00:01\r\u001b[K     |██████▏                         | 645kB 3.3MB/s eta 0:00:01\r\u001b[K     |██████▎                         | 655kB 3.3MB/s eta 0:00:01\r\u001b[K     |██████▍                         | 665kB 3.3MB/s eta 0:00:01\r\u001b[K     |██████▌                         | 675kB 3.3MB/s eta 0:00:01\r\u001b[K     |██████▌                         | 686kB 3.3MB/s eta 0:00:01\r\u001b[K     |██████▋                         | 696kB 3.3MB/s eta 0:00:01\r\u001b[K     |██████▊                         | 706kB 3.3MB/s eta 0:00:01\r\u001b[K     |██████▉                         | 716kB 3.3MB/s eta 0:00:01\r\u001b[K     |███████                         | 727kB 3.3MB/s eta 0:00:01\r\u001b[K     |███████                         | 737kB 3.3MB/s eta 0:00:01\r\u001b[K     |███████▏                        | 747kB 3.3MB/s eta 0:00:01\r\u001b[K     |███████▎                        | 757kB 3.3MB/s eta 0:00:01\r\u001b[K     |███████▎                        | 768kB 3.3MB/s eta 0:00:01\r\u001b[K     |███████▍                        | 778kB 3.3MB/s eta 0:00:01\r\u001b[K     |███████▌                        | 788kB 3.3MB/s eta 0:00:01\r\u001b[K     |███████▋                        | 798kB 3.3MB/s eta 0:00:01\r\u001b[K     |███████▊                        | 808kB 3.3MB/s eta 0:00:01\r\u001b[K     |███████▉                        | 819kB 3.3MB/s eta 0:00:01\r\u001b[K     |████████                        | 829kB 3.3MB/s eta 0:00:01\r\u001b[K     |████████                        | 839kB 3.3MB/s eta 0:00:01\r\u001b[K     |████████                        | 849kB 3.3MB/s eta 0:00:01\r\u001b[K     |████████▏                       | 860kB 3.3MB/s eta 0:00:01\r\u001b[K     |████████▎                       | 870kB 3.3MB/s eta 0:00:01\r\u001b[K     |████████▍                       | 880kB 3.3MB/s eta 0:00:01\r\u001b[K     |████████▌                       | 890kB 3.3MB/s eta 0:00:01\r\u001b[K     |████████▋                       | 901kB 3.3MB/s eta 0:00:01\r\u001b[K     |████████▊                       | 911kB 3.3MB/s eta 0:00:01\r\u001b[K     |████████▉                       | 921kB 3.3MB/s eta 0:00:01\r\u001b[K     |█████████                       | 931kB 3.3MB/s eta 0:00:01\r\u001b[K     |█████████                       | 942kB 3.3MB/s eta 0:00:01\r\u001b[K     |█████████                       | 952kB 3.3MB/s eta 0:00:01\r\u001b[K     |█████████▏                      | 962kB 3.3MB/s eta 0:00:01\r\u001b[K     |█████████▎                      | 972kB 3.3MB/s eta 0:00:01\r\u001b[K     |█████████▍                      | 983kB 3.3MB/s eta 0:00:01\r\u001b[K     |█████████▌                      | 993kB 3.3MB/s eta 0:00:01\r\u001b[K     |█████████▋                      | 1.0MB 3.3MB/s eta 0:00:01\r\u001b[K     |█████████▊                      | 1.0MB 3.3MB/s eta 0:00:01\r\u001b[K     |█████████▊                      | 1.0MB 3.3MB/s eta 0:00:01\r\u001b[K     |█████████▉                      | 1.0MB 3.3MB/s eta 0:00:01\r\u001b[K     |██████████                      | 1.0MB 3.3MB/s eta 0:00:01\r\u001b[K     |██████████                      | 1.1MB 3.3MB/s eta 0:00:01\r\u001b[K     |██████████▏                     | 1.1MB 3.3MB/s eta 0:00:01\r\u001b[K     |██████████▎                     | 1.1MB 3.3MB/s eta 0:00:01\r\u001b[K     |██████████▍                     | 1.1MB 3.3MB/s eta 0:00:01\r\u001b[K     |██████████▌                     | 1.1MB 3.3MB/s eta 0:00:01\r\u001b[K     |██████████▌                     | 1.1MB 3.3MB/s eta 0:00:01\r\u001b[K     |██████████▋                     | 1.1MB 3.3MB/s eta 0:00:01\r\u001b[K     |██████████▊                     | 1.1MB 3.3MB/s eta 0:00:01\r\u001b[K     |██████████▉                     | 1.1MB 3.3MB/s eta 0:00:01\r\u001b[K     |███████████                     | 1.1MB 3.3MB/s eta 0:00:01\r\u001b[K     |███████████                     | 1.2MB 3.3MB/s eta 0:00:01\r\u001b[K     |███████████▏                    | 1.2MB 3.3MB/s eta 0:00:01\r\u001b[K     |███████████▎                    | 1.2MB 3.3MB/s eta 0:00:01\r\u001b[K     |███████████▎                    | 1.2MB 3.3MB/s eta 0:00:01\r\u001b[K     |███████████▍                    | 1.2MB 3.3MB/s eta 0:00:01\r\u001b[K     |███████████▌                    | 1.2MB 3.3MB/s eta 0:00:01\r\u001b[K     |███████████▋                    | 1.2MB 3.3MB/s eta 0:00:01\r\u001b[K     |███████████▊                    | 1.2MB 3.3MB/s eta 0:00:01\r\u001b[K     |███████████▉                    | 1.2MB 3.3MB/s eta 0:00:01\r\u001b[K     |████████████                    | 1.2MB 3.3MB/s eta 0:00:01\r\u001b[K     |████████████                    | 1.3MB 3.3MB/s eta 0:00:01\r\u001b[K     |████████████▏                   | 1.3MB 3.3MB/s eta 0:00:01\r\u001b[K     |████████████▏                   | 1.3MB 3.3MB/s eta 0:00:01\r\u001b[K     |████████████▎                   | 1.3MB 3.3MB/s eta 0:00:01\r\u001b[K     |████████████▍                   | 1.3MB 3.3MB/s eta 0:00:01\r\u001b[K     |████████████▌                   | 1.3MB 3.3MB/s eta 0:00:01\r\u001b[K     |████████████▋                   | 1.3MB 3.3MB/s eta 0:00:01\r\u001b[K     |████████████▊                   | 1.3MB 3.3MB/s eta 0:00:01\r\u001b[K     |████████████▉                   | 1.3MB 3.3MB/s eta 0:00:01\r\u001b[K     |█████████████                   | 1.4MB 3.3MB/s eta 0:00:01\r\u001b[K     |█████████████                   | 1.4MB 3.3MB/s eta 0:00:01\r\u001b[K     |█████████████                   | 1.4MB 3.3MB/s eta 0:00:01\r\u001b[K     |█████████████▏                  | 1.4MB 3.3MB/s eta 0:00:01\r\u001b[K     |█████████████▎                  | 1.4MB 3.3MB/s eta 0:00:01\r\u001b[K     |█████████████▍                  | 1.4MB 3.3MB/s eta 0:00:01\r\u001b[K     |█████████████▌                  | 1.4MB 3.3MB/s eta 0:00:01\r\u001b[K     |█████████████▋                  | 1.4MB 3.3MB/s eta 0:00:01\r\u001b[K     |█████████████▊                  | 1.4MB 3.3MB/s eta 0:00:01\r\u001b[K     |█████████████▊                  | 1.4MB 3.3MB/s eta 0:00:01\r\u001b[K     |█████████████▉                  | 1.5MB 3.3MB/s eta 0:00:01\r\u001b[K     |██████████████                  | 1.5MB 3.3MB/s eta 0:00:01\r\u001b[K     |██████████████                  | 1.5MB 3.3MB/s eta 0:00:01\r\u001b[K     |██████████████▏                 | 1.5MB 3.3MB/s eta 0:00:01\r\u001b[K     |██████████████▎                 | 1.5MB 3.3MB/s eta 0:00:01\r\u001b[K     |██████████████▍                 | 1.5MB 3.3MB/s eta 0:00:01\r\u001b[K     |██████████████▌                 | 1.5MB 3.3MB/s eta 0:00:01\r\u001b[K     |██████████████▋                 | 1.5MB 3.3MB/s eta 0:00:01\r\u001b[K     |██████████████▋                 | 1.5MB 3.3MB/s eta 0:00:01\r\u001b[K     |██████████████▊                 | 1.5MB 3.3MB/s eta 0:00:01\r\u001b[K     |██████████████▉                 | 1.6MB 3.3MB/s eta 0:00:01\r\u001b[K     |███████████████                 | 1.6MB 3.3MB/s eta 0:00:01\r\u001b[K     |███████████████                 | 1.6MB 3.3MB/s eta 0:00:01\r\u001b[K     |███████████████▏                | 1.6MB 3.3MB/s eta 0:00:01\r\u001b[K     |███████████████▎                | 1.6MB 3.3MB/s eta 0:00:01\r\u001b[K     |███████████████▍                | 1.6MB 3.3MB/s eta 0:00:01\r\u001b[K     |███████████████▍                | 1.6MB 3.3MB/s eta 0:00:01\r\u001b[K     |███████████████▌                | 1.6MB 3.3MB/s eta 0:00:01\r\u001b[K     |███████████████▋                | 1.6MB 3.3MB/s eta 0:00:01\r\u001b[K     |███████████████▊                | 1.6MB 3.3MB/s eta 0:00:01\r\u001b[K     |███████████████▉                | 1.7MB 3.3MB/s eta 0:00:01\r\u001b[K     |████████████████                | 1.7MB 3.3MB/s eta 0:00:01\r\u001b[K     |████████████████                | 1.7MB 3.3MB/s eta 0:00:01\r\u001b[K     |████████████████▏               | 1.7MB 3.3MB/s eta 0:00:01\r\u001b[K     |████████████████▏               | 1.7MB 3.3MB/s eta 0:00:01\r\u001b[K     |████████████████▎               | 1.7MB 3.3MB/s eta 0:00:01\r\u001b[K     |████████████████▍               | 1.7MB 3.3MB/s eta 0:00:01\r\u001b[K     |████████████████▌               | 1.7MB 3.3MB/s eta 0:00:01\r\u001b[K     |████████████████▋               | 1.7MB 3.3MB/s eta 0:00:01\r\u001b[K     |████████████████▊               | 1.8MB 3.3MB/s eta 0:00:01\r\u001b[K     |████████████████▉               | 1.8MB 3.3MB/s eta 0:00:01\r\u001b[K     |█████████████████               | 1.8MB 3.3MB/s eta 0:00:01\r\u001b[K     |█████████████████               | 1.8MB 3.3MB/s eta 0:00:01\r\u001b[K     |█████████████████               | 1.8MB 3.3MB/s eta 0:00:01\r\u001b[K     |█████████████████▏              | 1.8MB 3.3MB/s eta 0:00:01\r\u001b[K     |█████████████████▎              | 1.8MB 3.3MB/s eta 0:00:01\r\u001b[K     |█████████████████▍              | 1.8MB 3.3MB/s eta 0:00:01\r\u001b[K     |█████████████████▌              | 1.8MB 3.3MB/s eta 0:00:01\r\u001b[K     |█████████████████▋              | 1.8MB 3.3MB/s eta 0:00:01\r\u001b[K     |█████████████████▊              | 1.9MB 3.3MB/s eta 0:00:01\r\u001b[K     |█████████████████▉              | 1.9MB 3.3MB/s eta 0:00:01\r\u001b[K     |█████████████████▉              | 1.9MB 3.3MB/s eta 0:00:01\r\u001b[K     |██████████████████              | 1.9MB 3.3MB/s eta 0:00:01\r\u001b[K     |██████████████████              | 1.9MB 3.3MB/s eta 0:00:01\r\u001b[K     |██████████████████▏             | 1.9MB 3.3MB/s eta 0:00:01\r\u001b[K     |██████████████████▎             | 1.9MB 3.3MB/s eta 0:00:01\r\u001b[K     |██████████████████▍             | 1.9MB 3.3MB/s eta 0:00:01\r\u001b[K     |██████████████████▌             | 1.9MB 3.3MB/s eta 0:00:01\r\u001b[K     |██████████████████▋             | 1.9MB 3.3MB/s eta 0:00:01\r\u001b[K     |██████████████████▋             | 2.0MB 3.3MB/s eta 0:00:01\r\u001b[K     |██████████████████▊             | 2.0MB 3.3MB/s eta 0:00:01\r\u001b[K     |██████████████████▉             | 2.0MB 3.3MB/s eta 0:00:01\r\u001b[K     |███████████████████             | 2.0MB 3.3MB/s eta 0:00:01\r\u001b[K     |███████████████████             | 2.0MB 3.3MB/s eta 0:00:01\r\u001b[K     |███████████████████▏            | 2.0MB 3.3MB/s eta 0:00:01\r\u001b[K     |███████████████████▎            | 2.0MB 3.3MB/s eta 0:00:01\r\u001b[K     |███████████████████▍            | 2.0MB 3.3MB/s eta 0:00:01\r\u001b[K     |███████████████████▍            | 2.0MB 3.3MB/s eta 0:00:01\r\u001b[K     |███████████████████▌            | 2.0MB 3.3MB/s eta 0:00:01\r\u001b[K     |███████████████████▋            | 2.1MB 3.3MB/s eta 0:00:01\r\u001b[K     |███████████████████▊            | 2.1MB 3.3MB/s eta 0:00:01\r\u001b[K     |███████████████████▉            | 2.1MB 3.3MB/s eta 0:00:01\r\u001b[K     |████████████████████            | 2.1MB 3.3MB/s eta 0:00:01\r\u001b[K     |████████████████████            | 2.1MB 3.3MB/s eta 0:00:01\r\u001b[K     |████████████████████▏           | 2.1MB 3.3MB/s eta 0:00:01\r\u001b[K     |████████████████████▎           | 2.1MB 3.3MB/s eta 0:00:01\r\u001b[K     |████████████████████▎           | 2.1MB 3.3MB/s eta 0:00:01\r\u001b[K     |████████████████████▍           | 2.1MB 3.3MB/s eta 0:00:01\r\u001b[K     |████████████████████▌           | 2.2MB 3.3MB/s eta 0:00:01\r\u001b[K     |████████████████████▋           | 2.2MB 3.3MB/s eta 0:00:01\r\u001b[K     |████████████████████▊           | 2.2MB 3.3MB/s eta 0:00:01\r\u001b[K     |████████████████████▉           | 2.2MB 3.3MB/s eta 0:00:01\r\u001b[K     |█████████████████████           | 2.2MB 3.3MB/s eta 0:00:01\r\u001b[K     |█████████████████████           | 2.2MB 3.3MB/s eta 0:00:01\r\u001b[K     |█████████████████████           | 2.2MB 3.3MB/s eta 0:00:01\r\u001b[K     |█████████████████████▏          | 2.2MB 3.3MB/s eta 0:00:01\r\u001b[K     |█████████████████████▎          | 2.2MB 3.3MB/s eta 0:00:01\r\u001b[K     |█████████████████████▍          | 2.2MB 3.3MB/s eta 0:00:01\r\u001b[K     |█████████████████████▌          | 2.3MB 3.3MB/s eta 0:00:01\r\u001b[K     |█████████████████████▋          | 2.3MB 3.3MB/s eta 0:00:01\r\u001b[K     |█████████████████████▊          | 2.3MB 3.3MB/s eta 0:00:01\r\u001b[K     |█████████████████████▉          | 2.3MB 3.3MB/s eta 0:00:01\r\u001b[K     |█████████████████████▉          | 2.3MB 3.3MB/s eta 0:00:01\r\u001b[K     |██████████████████████          | 2.3MB 3.3MB/s eta 0:00:01\r\u001b[K     |██████████████████████          | 2.3MB 3.3MB/s eta 0:00:01\r\u001b[K     |██████████████████████▏         | 2.3MB 3.3MB/s eta 0:00:01\r\u001b[K     |██████████████████████▎         | 2.3MB 3.3MB/s eta 0:00:01\r\u001b[K     |██████████████████████▍         | 2.3MB 3.3MB/s eta 0:00:01\r\u001b[K     |██████████████████████▌         | 2.4MB 3.3MB/s eta 0:00:01\r\u001b[K     |██████████████████████▋         | 2.4MB 3.3MB/s eta 0:00:01\r\u001b[K     |██████████████████████▋         | 2.4MB 3.3MB/s eta 0:00:01\r\u001b[K     |██████████████████████▊         | 2.4MB 3.3MB/s eta 0:00:01\r\u001b[K     |██████████████████████▉         | 2.4MB 3.3MB/s eta 0:00:01\r\u001b[K     |███████████████████████         | 2.4MB 3.3MB/s eta 0:00:01\r\u001b[K     |███████████████████████         | 2.4MB 3.3MB/s eta 0:00:01\r\u001b[K     |███████████████████████▏        | 2.4MB 3.3MB/s eta 0:00:01\r\u001b[K     |███████████████████████▎        | 2.4MB 3.3MB/s eta 0:00:01\r\u001b[K     |███████████████████████▍        | 2.4MB 3.3MB/s eta 0:00:01\r\u001b[K     |███████████████████████▌        | 2.5MB 3.3MB/s eta 0:00:01\r\u001b[K     |███████████████████████▌        | 2.5MB 3.3MB/s eta 0:00:01\r\u001b[K     |███████████████████████▋        | 2.5MB 3.3MB/s eta 0:00:01\r\u001b[K     |███████████████████████▊        | 2.5MB 3.3MB/s eta 0:00:01\r\u001b[K     |███████████████████████▉        | 2.5MB 3.3MB/s eta 0:00:01\r\u001b[K     |████████████████████████        | 2.5MB 3.3MB/s eta 0:00:01\r\u001b[K     |████████████████████████        | 2.5MB 3.3MB/s eta 0:00:01\r\u001b[K     |████████████████████████▏       | 2.5MB 3.3MB/s eta 0:00:01\r\u001b[K     |████████████████████████▎       | 2.5MB 3.3MB/s eta 0:00:01\r\u001b[K     |████████████████████████▎       | 2.5MB 3.3MB/s eta 0:00:01\r\u001b[K     |████████████████████████▍       | 2.6MB 3.3MB/s eta 0:00:01\r\u001b[K     |████████████████████████▌       | 2.6MB 3.3MB/s eta 0:00:01\r\u001b[K     |████████████████████████▋       | 2.6MB 3.3MB/s eta 0:00:01\r\u001b[K     |████████████████████████▊       | 2.6MB 3.3MB/s eta 0:00:01\r\u001b[K     |████████████████████████▉       | 2.6MB 3.3MB/s eta 0:00:01\r\u001b[K     |█████████████████████████       | 2.6MB 3.3MB/s eta 0:00:01\r\u001b[K     |█████████████████████████       | 2.6MB 3.3MB/s eta 0:00:01\r\u001b[K     |█████████████████████████       | 2.6MB 3.3MB/s eta 0:00:01\r\u001b[K     |█████████████████████████▏      | 2.6MB 3.3MB/s eta 0:00:01\r\u001b[K     |█████████████████████████▎      | 2.7MB 3.3MB/s eta 0:00:01\r\u001b[K     |█████████████████████████▍      | 2.7MB 3.3MB/s eta 0:00:01\r\u001b[K     |█████████████████████████▌      | 2.7MB 3.3MB/s eta 0:00:01\r\u001b[K     |█████████████████████████▋      | 2.7MB 3.3MB/s eta 0:00:01\r\u001b[K     |█████████████████████████▊      | 2.7MB 3.3MB/s eta 0:00:01\r\u001b[K     |█████████████████████████▉      | 2.7MB 3.3MB/s eta 0:00:01\r\u001b[K     |██████████████████████████      | 2.7MB 3.3MB/s eta 0:00:01\r\u001b[K     |██████████████████████████      | 2.7MB 3.3MB/s eta 0:00:01\r\u001b[K     |██████████████████████████      | 2.7MB 3.3MB/s eta 0:00:01\r\u001b[K     |██████████████████████████▏     | 2.7MB 3.3MB/s eta 0:00:01\r\u001b[K     |██████████████████████████▎     | 2.8MB 3.3MB/s eta 0:00:01\r\u001b[K     |██████████████████████████▍     | 2.8MB 3.3MB/s eta 0:00:01\r\u001b[K     |██████████████████████████▌     | 2.8MB 3.3MB/s eta 0:00:01\r\u001b[K     |██████████████████████████▋     | 2.8MB 3.3MB/s eta 0:00:01\r\u001b[K     |██████████████████████████▊     | 2.8MB 3.3MB/s eta 0:00:01\r\u001b[K     |██████████████████████████▊     | 2.8MB 3.3MB/s eta 0:00:01\r\u001b[K     |██████████████████████████▉     | 2.8MB 3.3MB/s eta 0:00:01\r\u001b[K     |███████████████████████████     | 2.8MB 3.3MB/s eta 0:00:01\r\u001b[K     |███████████████████████████     | 2.8MB 3.3MB/s eta 0:00:01\r\u001b[K     |███████████████████████████▏    | 2.8MB 3.3MB/s eta 0:00:01\r\u001b[K     |███████████████████████████▎    | 2.9MB 3.3MB/s eta 0:00:01\r\u001b[K     |███████████████████████████▍    | 2.9MB 3.3MB/s eta 0:00:01\r\u001b[K     |███████████████████████████▌    | 2.9MB 3.3MB/s eta 0:00:01\r\u001b[K     |███████████████████████████▌    | 2.9MB 3.3MB/s eta 0:00:01\r\u001b[K     |███████████████████████████▋    | 2.9MB 3.3MB/s eta 0:00:01\r\u001b[K     |███████████████████████████▊    | 2.9MB 3.3MB/s eta 0:00:01\r\u001b[K     |███████████████████████████▉    | 2.9MB 3.3MB/s eta 0:00:01\r\u001b[K     |████████████████████████████    | 2.9MB 3.3MB/s eta 0:00:01\r\u001b[K     |████████████████████████████    | 2.9MB 3.3MB/s eta 0:00:01\r\u001b[K     |████████████████████████████▏   | 2.9MB 3.3MB/s eta 0:00:01\r\u001b[K     |████████████████████████████▎   | 3.0MB 3.3MB/s eta 0:00:01\r\u001b[K     |████████████████████████████▎   | 3.0MB 3.3MB/s eta 0:00:01\r\u001b[K     |████████████████████████████▍   | 3.0MB 3.3MB/s eta 0:00:01\r\u001b[K     |████████████████████████████▌   | 3.0MB 3.3MB/s eta 0:00:01\r\u001b[K     |████████████████████████████▋   | 3.0MB 3.3MB/s eta 0:00:01\r\u001b[K     |████████████████████████████▊   | 3.0MB 3.3MB/s eta 0:00:01\r\u001b[K     |████████████████████████████▉   | 3.0MB 3.3MB/s eta 0:00:01\r\u001b[K     |█████████████████████████████   | 3.0MB 3.3MB/s eta 0:00:01\r\u001b[K     |█████████████████████████████   | 3.0MB 3.3MB/s eta 0:00:01\r\u001b[K     |█████████████████████████████▏  | 3.1MB 3.3MB/s eta 0:00:01\r\u001b[K     |█████████████████████████████▏  | 3.1MB 3.3MB/s eta 0:00:01\r\u001b[K     |█████████████████████████████▎  | 3.1MB 3.3MB/s eta 0:00:01\r\u001b[K     |█████████████████████████████▍  | 3.1MB 3.3MB/s eta 0:00:01\r\u001b[K     |█████████████████████████████▌  | 3.1MB 3.3MB/s eta 0:00:01\r\u001b[K     |█████████████████████████████▋  | 3.1MB 3.3MB/s eta 0:00:01\r\u001b[K     |█████████████████████████████▊  | 3.1MB 3.3MB/s eta 0:00:01\r\u001b[K     |█████████████████████████████▉  | 3.1MB 3.3MB/s eta 0:00:01\r\u001b[K     |██████████████████████████████  | 3.1MB 3.3MB/s eta 0:00:01\r\u001b[K     |██████████████████████████████  | 3.1MB 3.3MB/s eta 0:00:01\r\u001b[K     |██████████████████████████████  | 3.2MB 3.3MB/s eta 0:00:01\r\u001b[K     |██████████████████████████████▏ | 3.2MB 3.3MB/s eta 0:00:01\r\u001b[K     |██████████████████████████████▎ | 3.2MB 3.3MB/s eta 0:00:01\r\u001b[K     |██████████████████████████████▍ | 3.2MB 3.3MB/s eta 0:00:01\r\u001b[K     |██████████████████████████████▌ | 3.2MB 3.3MB/s eta 0:00:01\r\u001b[K     |██████████████████████████████▋ | 3.2MB 3.3MB/s eta 0:00:01\r\u001b[K     |██████████████████████████████▊ | 3.2MB 3.3MB/s eta 0:00:01\r\u001b[K     |██████████████████████████████▊ | 3.2MB 3.3MB/s eta 0:00:01\r\u001b[K     |██████████████████████████████▉ | 3.2MB 3.3MB/s eta 0:00:01\r\u001b[K     |███████████████████████████████ | 3.2MB 3.3MB/s eta 0:00:01\r\u001b[K     |███████████████████████████████ | 3.3MB 3.3MB/s eta 0:00:01\r\u001b[K     |███████████████████████████████▏| 3.3MB 3.3MB/s eta 0:00:01\r\u001b[K     |███████████████████████████████▎| 3.3MB 3.3MB/s eta 0:00:01\r\u001b[K     |███████████████████████████████▍| 3.3MB 3.3MB/s eta 0:00:01\r\u001b[K     |███████████████████████████████▌| 3.3MB 3.3MB/s eta 0:00:01\r\u001b[K     |███████████████████████████████▌| 3.3MB 3.3MB/s eta 0:00:01\r\u001b[K     |███████████████████████████████▋| 3.3MB 3.3MB/s eta 0:00:01\r\u001b[K     |███████████████████████████████▊| 3.3MB 3.3MB/s eta 0:00:01\r\u001b[K     |███████████████████████████████▉| 3.3MB 3.3MB/s eta 0:00:01\r\u001b[K     |████████████████████████████████| 3.3MB 3.3MB/s eta 0:00:01\r\u001b[K     |████████████████████████████████| 3.4MB 3.3MB/s \n",
            "\u001b[?25hInstalling collected packages: virtualenv\n",
            "Successfully installed virtualenv-16.7.9\n"
          ],
          "name": "stdout"
        }
      ]
    },
    {
      "cell_type": "code",
      "metadata": {
        "id": "_XP_iNv4Q2ab",
        "colab_type": "code",
        "colab": {
          "base_uri": "https://localhost:8080/",
          "height": 35
        },
        "outputId": "dd32e9e4-f11e-40da-abbe-76a23ac3ae13"
      },
      "source": [
        "!virtualenv --version"
      ],
      "execution_count": 2,
      "outputs": [
        {
          "output_type": "stream",
          "text": [
            "16.7.9\n"
          ],
          "name": "stdout"
        }
      ]
    },
    {
      "cell_type": "code",
      "metadata": {
        "id": "FVuaGfMLQ_MC",
        "colab_type": "code",
        "colab": {
          "base_uri": "https://localhost:8080/",
          "height": 109
        },
        "outputId": "6bd7f8b6-4698-4b0d-9f50-3a05091a286b"
      },
      "source": [
        "!virtualenv webAppEnv"
      ],
      "execution_count": 4,
      "outputs": [
        {
          "output_type": "stream",
          "text": [
            "Using base prefix '/usr'\n",
            "New python executable in /content/webAppEnv/bin/python3\n",
            "Not overwriting existing python script /content/webAppEnv/bin/python (you must use /content/webAppEnv/bin/python3)\n",
            "Installing setuptools, pip, wheel...\n",
            "done.\n"
          ],
          "name": "stdout"
        }
      ]
    },
    {
      "cell_type": "code",
      "metadata": {
        "id": "EZHFfKhKRcYk",
        "colab_type": "code",
        "colab": {}
      },
      "source": [
        "!source webAppEnv/bin/activate"
      ],
      "execution_count": 0,
      "outputs": []
    },
    {
      "cell_type": "code",
      "metadata": {
        "id": "PXUuuJIgSL41",
        "colab_type": "code",
        "colab": {
          "base_uri": "https://localhost:8080/",
          "height": 770
        },
        "outputId": "56dccedc-731f-4c1d-8329-9fe038a8d38d"
      },
      "source": [
        "!virtualenv --help"
      ],
      "execution_count": 8,
      "outputs": [
        {
          "output_type": "stream",
          "text": [
            "Usage: virtualenv [OPTIONS] DEST_DIR\n",
            "\n",
            "Options:\n",
            "  --version             show program's version number and exit\n",
            "  -h, --help            show this help message and exit\n",
            "  -v, --verbose         Increase verbosity.\n",
            "  -q, --quiet           Decrease verbosity.\n",
            "  -p PYTHON_EXE, --python=PYTHON_EXE\n",
            "                        The Python interpreter to use, e.g.,\n",
            "                        --python=python3.5 will use the python3.5 interpreter\n",
            "                        to create the new environment.  The default is the\n",
            "                        interpreter that virtualenv was installed with\n",
            "                        (/usr/bin/python3)\n",
            "  --clear               Clear out the non-root install and start from scratch.\n",
            "  --no-site-packages    DEPRECATED. Retained only for backward compatibility.\n",
            "                        Not having access to global site-packages is now the\n",
            "                        default behavior.\n",
            "  --system-site-packages\n",
            "                        Give the virtual environment access to the global\n",
            "                        site-packages.\n",
            "  --always-copy         Always copy files rather than symlinking.\n",
            "  --relocatable         Make an EXISTING virtualenv environment relocatable.\n",
            "                        This fixes up scripts and makes all .pth files\n",
            "                        relative.\n",
            "  --no-setuptools       Do not install setuptools in the new virtualenv.\n",
            "  --no-pip              Do not install pip in the new virtualenv.\n",
            "  --no-wheel            Do not install wheel in the new virtualenv.\n",
            "  --extra-search-dir=DIR\n",
            "                        Directory to look for setuptools/pip distributions in.\n",
            "                        This option can be used multiple times.\n",
            "  --download            Download pre-installed packages from PyPI.\n",
            "  --no-download, --never-download\n",
            "                        Do not download pre-installed packages from PyPI.\n",
            "  --prompt=PROMPT       Provides an alternative prompt prefix for this\n",
            "                        environment.\n",
            "  --setuptools          DEPRECATED. Retained only for backward compatibility.\n",
            "                        This option has no effect.\n",
            "  --distribute          DEPRECATED. Retained only for backward compatibility.\n",
            "                        This option has no effect.\n",
            "  --unzip-setuptools    DEPRECATED.  Retained only for backward compatibility.\n",
            "                        This option has no effect.\n"
          ],
          "name": "stdout"
        }
      ]
    },
    {
      "cell_type": "code",
      "metadata": {
        "id": "JJTlNT8_Sfdd",
        "colab_type": "code",
        "colab": {
          "base_uri": "https://localhost:8080/",
          "height": 127
        },
        "outputId": "9b892fdc-c9bb-4647-9a37-0e8b29deaf48"
      },
      "source": [
        "!pip3 install Flask"
      ],
      "execution_count": 9,
      "outputs": [
        {
          "output_type": "stream",
          "text": [
            "Requirement already satisfied: Flask in /usr/local/lib/python3.6/dist-packages (1.1.1)\n",
            "Requirement already satisfied: click>=5.1 in /usr/local/lib/python3.6/dist-packages (from Flask) (7.0)\n",
            "Requirement already satisfied: Werkzeug>=0.15 in /usr/local/lib/python3.6/dist-packages (from Flask) (0.16.1)\n",
            "Requirement already satisfied: itsdangerous>=0.24 in /usr/local/lib/python3.6/dist-packages (from Flask) (1.1.0)\n",
            "Requirement already satisfied: Jinja2>=2.10.1 in /usr/local/lib/python3.6/dist-packages (from Flask) (2.11.1)\n",
            "Requirement already satisfied: MarkupSafe>=0.23 in /usr/local/lib/python3.6/dist-packages (from Jinja2>=2.10.1->Flask) (1.1.1)\n"
          ],
          "name": "stdout"
        }
      ]
    },
    {
      "cell_type": "code",
      "metadata": {
        "id": "WSBwx6QRVmsu",
        "colab_type": "code",
        "colab": {}
      },
      "source": [
        "#https://medium.com/@kshitijvijay271199/flask-on-google-colab-f6525986797b\n",
        "!pip3 install flask-ngrok"
      ],
      "execution_count": 0,
      "outputs": []
    },
    {
      "cell_type": "code",
      "metadata": {
        "id": "Zr_RRpAoSrLD",
        "colab_type": "code",
        "colab": {}
      },
      "source": [
        "# Importing flask module in the project is mandatory \n",
        "# An object of Flask class is our WSGI application. \n",
        "from flask import Flask \n",
        "from flask_ngrok import run_with_ngrok\n",
        "# Flask constructor takes the name of  \n",
        "# current module (__name__) as argument. \n",
        "app = Flask(__name__) \n",
        "run_with_ngrok(app)   # #starts ngrok when the app is run\n",
        "\n",
        "# The route() function of the Flask class is a decorator,  \n",
        "# which tells the application which URL should call  \n",
        "# the associated function. \n",
        "@app.route('/') \n",
        "# ‘/’ URL is bound with hello_world() function. \n",
        "def hello_world(): \n",
        "    return 'Hello World'"
      ],
      "execution_count": 0,
      "outputs": []
    },
    {
      "cell_type": "code",
      "metadata": {
        "id": "heGh69TNT1XG",
        "colab_type": "code",
        "colab": {
          "base_uri": "https://localhost:8080/",
          "height": 201
        },
        "outputId": "e213f5b4-366d-4535-928f-1ee1312eeee1"
      },
      "source": [
        "# main driver function \n",
        "if __name__ == '__main__': \n",
        "  \n",
        "    # run() method of Flask class runs the application  \n",
        "    # on the local development server. \n",
        "    app.run() "
      ],
      "execution_count": 17,
      "outputs": [
        {
          "output_type": "stream",
          "text": [
            " * Serving Flask app \"__main__\" (lazy loading)\n",
            " * Environment: production\n",
            "   WARNING: This is a development server. Do not use it in a production deployment.\n",
            "   Use a production WSGI server instead.\n",
            " * Debug mode: off\n"
          ],
          "name": "stdout"
        },
        {
          "output_type": "stream",
          "text": [
            " * Running on http://127.0.0.1:5000/ (Press CTRL+C to quit)\n"
          ],
          "name": "stderr"
        },
        {
          "output_type": "stream",
          "text": [
            " * Running on http://2aa53102.ngrok.io\n",
            " * Traffic stats available on http://127.0.0.1:4040\n"
          ],
          "name": "stdout"
        },
        {
          "output_type": "stream",
          "text": [
            "127.0.0.1 - - [06/Feb/2020 07:12:59] \"\u001b[37mGET / HTTP/1.1\u001b[0m\" 200 -\n",
            "127.0.0.1 - - [06/Feb/2020 07:12:59] \"\u001b[33mGET /favicon.ico HTTP/1.1\u001b[0m\" 404 -\n"
          ],
          "name": "stderr"
        }
      ]
    },
    {
      "cell_type": "code",
      "metadata": {
        "id": "jXWA8wMRUKVu",
        "colab_type": "code",
        "colab": {
          "base_uri": "https://localhost:8080/",
          "height": 35
        },
        "outputId": "6b984d88-1316-43db-95d4-03c096b367c8"
      },
      "source": [
        "!curl ipecho.net/plain"
      ],
      "execution_count": 18,
      "outputs": [
        {
          "output_type": "stream",
          "text": [
            "104.197.216.133"
          ],
          "name": "stdout"
        }
      ]
    }
  ]
}